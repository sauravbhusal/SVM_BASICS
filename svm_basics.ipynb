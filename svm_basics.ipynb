{
 "cells": [
  {
   "cell_type": "markdown",
   "id": "6132cfe4",
   "metadata": {},
   "source": [
    "# Importing libraries "
   ]
  },
  {
   "cell_type": "code",
   "execution_count": 1,
   "id": "581f4eb2",
   "metadata": {},
   "outputs": [],
   "source": [
    "import pandas as pd\n",
    "import os\n",
    "from skimage.transform import resize\n",
    "from skimage.io import imread\n",
    "import numpy as np\n",
    "import matplotlib.pyplot as plt\n",
    "\n",
    "#for model construction\n",
    "from sklearn import svm\n",
    "from sklearn.model_selection import GridSearchCV\n",
    "\n",
    "#for model training\n",
    "#model splitting is necessary\n",
    "from sklearn.model_selection import train_test_split\n",
    "#the entire process can be sub divided into 5 processes which include\n",
    "#1.Input required data\n",
    "#2.Model construction\n",
    "#3.Model training\n",
    "#4.Model testing\n",
    "#5.Model evaluation"
   ]
  },
  {
   "cell_type": "markdown",
   "id": "9b141571",
   "metadata": {},
   "source": [
    "# Input required data"
   ]
  },
  {
   "cell_type": "code",
   "execution_count": 2,
   "id": "b15b6958",
   "metadata": {},
   "outputs": [],
   "source": [
    "#declaring multiple calsses\n",
    "Categories = ['Cars', 'Ice cream cone', 'Cricket ball']\n",
    "\n",
    "#input array\n",
    "flat_data_arr = []\n",
    "\n",
    "#output array\n",
    "target_arr = []"
   ]
  },
  {
   "cell_type": "code",
   "execution_count": 3,
   "id": "6509104a",
   "metadata": {},
   "outputs": [],
   "source": [
    "#data directory which contains all categories of images\n",
    "datadir = '/home/saurav/Documents/ml_projects/svm_basics'"
   ]
  },
  {
   "cell_type": "code",
   "execution_count": 4,
   "id": "450ee394",
   "metadata": {},
   "outputs": [
    {
     "name": "stdout",
     "output_type": "stream",
     "text": [
      "loading........... category : Cars\n",
      "loaded category:{i} successfully\n",
      "loading........... category : Ice cream cone\n",
      "loaded category:{i} successfully\n",
      "loading........... category : Cricket ball\n",
      "loaded category:{i} successfully\n",
      "completed!\n"
     ]
    }
   ],
   "source": [
    "for i in Categories:\n",
    "    print(f'loading........... category : {i}')\n",
    "    #join the data directory with the final categoryies i.e. (Cars, Ice cream cone, Cricket ball) in our present case\n",
    "    path = os.path.join(datadir,i)\n",
    "    for img in os.listdir(path):\n",
    "        #join the above category with each of the image in the given folder in loop\n",
    "        img_array=imread(os.path.join(path,img))\n",
    "        img_resized=resize(img_array,(150,150,3))\n",
    "        flat_data_arr.append(img_resized.flatten())\n",
    "        target_arr.append(Categories.index(i))\n",
    "    print('loaded category:{i} successfully')\n",
    "flat_data = np.array(flat_data_arr)\n",
    "target = np.array(target_arr)\n",
    "\n",
    "#dataframe\n",
    "df = pd.DataFrame(flat_data) \n",
    "df['Target'] = pd.Series(target)\n",
    "#input data\n",
    "x = df.iloc[:,:-1]\n",
    "#output data\n",
    "y = df.iloc[:,-1]\n",
    "print('completed!')"
   ]
  },
  {
   "cell_type": "markdown",
   "id": "cbe0483e",
   "metadata": {},
   "source": [
    "# Model construction"
   ]
  },
  {
   "cell_type": "code",
   "execution_count": 5,
   "id": "cc278c6b",
   "metadata": {},
   "outputs": [],
   "source": [
    "param_grid = {'C':[0.1, 1, 10, 100], 'gamma':[0.0001,0.001,0.1,1], 'kernel':['rbf','poly']}\n",
    "svc = svm.SVC(probability = True)\n",
    "model = GridSearchCV(svc,param_grid)"
   ]
  },
  {
   "cell_type": "markdown",
   "id": "28f2dbc2",
   "metadata": {},
   "source": [
    "# Model training"
   ]
  },
  {
   "cell_type": "code",
   "execution_count": 6,
   "id": "3cf32cc2",
   "metadata": {},
   "outputs": [
    {
     "name": "stdout",
     "output_type": "stream",
     "text": [
      "model is trained well\n"
     ]
    }
   ],
   "source": [
    "x_train, x_test, y_train, y_test = train_test_split(x, y, test_size=0.2, random_state=77, stratify=y)\n",
    "#training\n",
    "model.fit(x_train,y_train)\n",
    "print('model is trained well')"
   ]
  },
  {
   "cell_type": "markdown",
   "id": "04bbddd8",
   "metadata": {},
   "source": [
    "# Model testing"
   ]
  },
  {
   "cell_type": "code",
   "execution_count": 38,
   "id": "4b6da121",
   "metadata": {},
   "outputs": [
    {
     "name": "stdout",
     "output_type": "stream",
     "text": [
      "The predicted data is:\n",
      "[0 0 2 2 0 1 1 2 0 2 2 2 0 1 2 0 0 0 1 1]\n",
      "The actual data is:\n",
      "[0 0 2 2 0 1 1 2 0 1 2 2 0 1 2 0 0 0 1 1]\n",
      "the model is 95.0% accurate\n"
     ]
    }
   ],
   "source": [
    "y_pred=model.predict(x_test)\n",
    "y_test=np.array(y_test)\n",
    "final = np.subtract(y_pred, y_test)\n",
    "def accuracy_score():\n",
    "    nonzero = np.count_nonzero(final)\n",
    "    total_length = len(final)\n",
    "    acc = (total_length-nonzero)/total_length\n",
    "    return (acc)\n",
    "print(\"The predicted data is:\")\n",
    "print(y_pred)\n",
    "print(\"The actual data is:\")\n",
    "print(np.array(y_test))\n",
    "print(f\"the model is {accuracy_score()*100}% accurate\")"
   ]
  }
 ],
 "metadata": {
  "kernelspec": {
   "display_name": "Python 3 (ipykernel)",
   "language": "python",
   "name": "python3"
  },
  "language_info": {
   "codemirror_mode": {
    "name": "ipython",
    "version": 3
   },
   "file_extension": ".py",
   "mimetype": "text/x-python",
   "name": "python",
   "nbconvert_exporter": "python",
   "pygments_lexer": "ipython3",
   "version": "3.11.6"
  }
 },
 "nbformat": 4,
 "nbformat_minor": 5
}
