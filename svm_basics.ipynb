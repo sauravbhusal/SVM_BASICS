{
 "cells": [
  {
   "cell_type": "markdown",
   "id": "2ea4c141",
   "metadata": {},
   "source": [
    "# Importing libraries "
   ]
  },
  {
   "cell_type": "code",
   "execution_count": 10,
   "id": "581f4eb2",
   "metadata": {},
   "outputs": [],
   "source": [
    "import pandas as pd\n",
    "import os\n",
    "from skimage.transform import resize\n",
    "from skimage.io import imread\n",
    "import numpy as np\n",
    "import matplotlib.pyplot as plt\n",
    "\n",
    "#the entire process can be sub divided into 5 processes which include\n",
    "#1.Input required data\n",
    "#2.Model construction\n",
    "#3.Model training\n",
    "#4.Model testing\n",
    "#5.Model evaluation"
   ]
  },
  {
   "cell_type": "markdown",
   "id": "351a7280",
   "metadata": {},
   "source": [
    "# Input required data"
   ]
  },
  {
   "cell_type": "code",
   "execution_count": 13,
   "id": "b5883644",
   "metadata": {},
   "outputs": [],
   "source": [
    "#declaring multiple calsses\n",
    "Categories = ['Cars', 'Ice cream cone', 'Cricket ball']\n",
    "\n",
    "#input array\n",
    "flat_data_arr = []\n",
    "\n",
    "#output array\n",
    "target_array = []"
   ]
  },
  {
   "cell_type": "code",
   "execution_count": 14,
   "id": "3d9fb5b5",
   "metadata": {},
   "outputs": [],
   "source": [
    "#data directory which contains all categories of images\n",
    "datadir = '/home/saurav/Documents/ml_projects/svm_basics'"
   ]
  },
  {
   "cell_type": "code",
   "execution_count": 16,
   "id": "8d62f188",
   "metadata": {},
   "outputs": [
    {
     "name": "stdout",
     "output_type": "stream",
     "text": [
      "loading........... category : Cars\n",
      "loading........... category : Ice cream cone\n",
      "loading........... category : Cricket ball\n"
     ]
    }
   ],
   "source": [
    "for i in Categories:\n",
    "    print(f'loading........... category : {i}')\n",
    "    path = os.path.join(datadir,i)"
   ]
  },
  {
   "cell_type": "code",
   "execution_count": null,
   "id": "1ed2a0aa",
   "metadata": {},
   "outputs": [],
   "source": []
  }
 ],
 "metadata": {
  "kernelspec": {
   "display_name": "Python 3 (ipykernel)",
   "language": "python",
   "name": "python3"
  },
  "language_info": {
   "codemirror_mode": {
    "name": "ipython",
    "version": 3
   },
   "file_extension": ".py",
   "mimetype": "text/x-python",
   "name": "python",
   "nbconvert_exporter": "python",
   "pygments_lexer": "ipython3",
   "version": "3.11.6"
  }
 },
 "nbformat": 4,
 "nbformat_minor": 5
}
